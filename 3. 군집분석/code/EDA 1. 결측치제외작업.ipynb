{
 "cells": [
  {
   "cell_type": "markdown",
   "metadata": {},
   "source": [
    "## 결측치 확인\n",
    "\n",
    "#### 1. 부채, 가맹점 수, 평균매출액이 0, 결측치 제외.\n",
    "    df2.to_excel(\"./../9 - Data/결측치제외.xlsx\")"
   ]
  },
  {
   "cell_type": "code",
   "execution_count": 2,
   "metadata": {},
   "outputs": [],
   "source": [
    "import pandas as pd\n",
    "import numpy as np\n",
    "from tqdm import tqdm_notebook\n",
    "import platform\n",
    "import matplotlib.pyplot as plt\n",
    "\n",
    "%matplotlib inline\n",
    "\n",
    "path = \"c:/Windows/Fonts/malgun.ttf\"\n",
    "from matplotlib import font_manager,rc\n",
    "if platform.system() == 'Windows' :\n",
    "    font_name = font_manager.FontProperties(fname=path).get_name()\n",
    "    rc('font', family=font_name)\n",
    "plt.rcParams['axes.unicode_minus'] = False"
   ]
  },
  {
   "cell_type": "markdown",
   "metadata": {},
   "source": [
    "### 원본데이터(recal2data)와 sns평균데이터(긍정비율) 결합"
   ]
  },
  {
   "cell_type": "code",
   "execution_count": 5,
   "metadata": {},
   "outputs": [],
   "source": [
    "data = pd.read_excel(\"./../9 - Data/project/recal2data.xlsx\")\n",
    "sns = pd.read_excel(\"./../9 - Data/project/긍정비율.xlsx\")\n",
    "df = pd.merge(data,sns,on=['브랜드'],how = 'inner')\n",
    "\n"
   ]
  },
  {
   "cell_type": "markdown",
   "metadata": {},
   "source": [
    "### 필요한 column만 추출"
   ]
  },
  {
   "cell_type": "code",
   "execution_count": 6,
   "metadata": {},
   "outputs": [],
   "source": [
    "df = df[['브랜드','가맹점 수', '신규개점', '계약종료', '계약해지', '중분류', '자산', '매출액', '영업이익', '자본', '당기순이익', \n",
    "         '부채', '부채비율', '자기자본비율','법위반횟수', '가맹점 매출액','가맹사업 개월수', '비용 합계','총언급량','긍정','중립','부정']]"
   ]
  },
  {
   "cell_type": "markdown",
   "metadata": {},
   "source": [
    "# 1."
   ]
  },
  {
   "cell_type": "code",
   "execution_count": 7,
   "metadata": {},
   "outputs": [
    {
     "data": {
      "text/html": [
       "<div>\n",
       "<style scoped>\n",
       "    .dataframe tbody tr th:only-of-type {\n",
       "        vertical-align: middle;\n",
       "    }\n",
       "\n",
       "    .dataframe tbody tr th {\n",
       "        vertical-align: top;\n",
       "    }\n",
       "\n",
       "    .dataframe thead th {\n",
       "        text-align: right;\n",
       "    }\n",
       "</style>\n",
       "<table border=\"1\" class=\"dataframe\">\n",
       "  <thead>\n",
       "    <tr style=\"text-align: right;\">\n",
       "      <th></th>\n",
       "      <th>가맹점 수</th>\n",
       "      <th>신규개점</th>\n",
       "      <th>계약종료</th>\n",
       "      <th>계약해지</th>\n",
       "      <th>자산</th>\n",
       "      <th>매출액</th>\n",
       "      <th>영업이익</th>\n",
       "      <th>자본</th>\n",
       "      <th>당기순이익</th>\n",
       "      <th>부채</th>\n",
       "      <th>부채비율</th>\n",
       "      <th>자기자본비율</th>\n",
       "      <th>법위반횟수</th>\n",
       "      <th>가맹점 매출액</th>\n",
       "      <th>가맹사업 개월수</th>\n",
       "      <th>비용 합계</th>\n",
       "      <th>총언급량</th>\n",
       "      <th>긍정</th>\n",
       "      <th>중립</th>\n",
       "      <th>부정</th>\n",
       "    </tr>\n",
       "  </thead>\n",
       "  <tbody>\n",
       "    <tr>\n",
       "      <th>count</th>\n",
       "      <td>4396.000000</td>\n",
       "      <td>4396.00000</td>\n",
       "      <td>4396.000000</td>\n",
       "      <td>4396.000000</td>\n",
       "      <td>3.639000e+03</td>\n",
       "      <td>3.832000e+03</td>\n",
       "      <td>3.640000e+03</td>\n",
       "      <td>3.641000e+03</td>\n",
       "      <td>3.640000e+03</td>\n",
       "      <td>3.641000e+03</td>\n",
       "      <td>3398.000000</td>\n",
       "      <td>3398.000000</td>\n",
       "      <td>4396.000000</td>\n",
       "      <td>4.396000e+03</td>\n",
       "      <td>4396.000000</td>\n",
       "      <td>4.396000e+03</td>\n",
       "      <td>4.396000e+03</td>\n",
       "      <td>4.396000e+03</td>\n",
       "      <td>4396.000000</td>\n",
       "      <td>4396.000000</td>\n",
       "    </tr>\n",
       "    <tr>\n",
       "      <th>mean</th>\n",
       "      <td>26.143312</td>\n",
       "      <td>5.42152</td>\n",
       "      <td>0.945860</td>\n",
       "      <td>2.383530</td>\n",
       "      <td>1.366477e+07</td>\n",
       "      <td>1.469871e+07</td>\n",
       "      <td>5.152276e+05</td>\n",
       "      <td>6.401410e+06</td>\n",
       "      <td>1.255511e+05</td>\n",
       "      <td>7.279675e+06</td>\n",
       "      <td>inf</td>\n",
       "      <td>0.134656</td>\n",
       "      <td>0.054595</td>\n",
       "      <td>1.184170e+05</td>\n",
       "      <td>59.333258</td>\n",
       "      <td>1.026000e+05</td>\n",
       "      <td>4.079389e+03</td>\n",
       "      <td>2.816518e+03</td>\n",
       "      <td>266.736351</td>\n",
       "      <td>996.134213</td>\n",
       "    </tr>\n",
       "    <tr>\n",
       "      <th>std</th>\n",
       "      <td>107.792946</td>\n",
       "      <td>17.49158</td>\n",
       "      <td>4.814727</td>\n",
       "      <td>8.229769</td>\n",
       "      <td>1.287778e+08</td>\n",
       "      <td>1.048473e+08</td>\n",
       "      <td>4.941120e+06</td>\n",
       "      <td>7.679216e+07</td>\n",
       "      <td>6.295004e+06</td>\n",
       "      <td>6.063171e+07</td>\n",
       "      <td>NaN</td>\n",
       "      <td>1.403288</td>\n",
       "      <td>0.265968</td>\n",
       "      <td>2.266198e+05</td>\n",
       "      <td>54.094879</td>\n",
       "      <td>9.631122e+04</td>\n",
       "      <td>5.302626e+04</td>\n",
       "      <td>3.699461e+04</td>\n",
       "      <td>3777.309978</td>\n",
       "      <td>14798.930928</td>\n",
       "    </tr>\n",
       "    <tr>\n",
       "      <th>min</th>\n",
       "      <td>0.000000</td>\n",
       "      <td>0.00000</td>\n",
       "      <td>0.000000</td>\n",
       "      <td>0.000000</td>\n",
       "      <td>-2.304000e+04</td>\n",
       "      <td>0.000000e+00</td>\n",
       "      <td>-2.422069e+07</td>\n",
       "      <td>-1.095056e+07</td>\n",
       "      <td>-8.041570e+07</td>\n",
       "      <td>-2.648080e+05</td>\n",
       "      <td>-518.009077</td>\n",
       "      <td>-27.924408</td>\n",
       "      <td>0.000000</td>\n",
       "      <td>0.000000e+00</td>\n",
       "      <td>7.000000</td>\n",
       "      <td>0.000000e+00</td>\n",
       "      <td>0.000000e+00</td>\n",
       "      <td>0.000000e+00</td>\n",
       "      <td>0.000000</td>\n",
       "      <td>0.000000</td>\n",
       "    </tr>\n",
       "    <tr>\n",
       "      <th>25%</th>\n",
       "      <td>0.000000</td>\n",
       "      <td>0.00000</td>\n",
       "      <td>0.000000</td>\n",
       "      <td>0.000000</td>\n",
       "      <td>9.543900e+04</td>\n",
       "      <td>2.033182e+05</td>\n",
       "      <td>-9.289750e+03</td>\n",
       "      <td>1.458000e+03</td>\n",
       "      <td>-6.939500e+03</td>\n",
       "      <td>4.792100e+04</td>\n",
       "      <td>0.084735</td>\n",
       "      <td>0.096571</td>\n",
       "      <td>0.000000</td>\n",
       "      <td>0.000000e+00</td>\n",
       "      <td>23.000000</td>\n",
       "      <td>5.700000e+04</td>\n",
       "      <td>4.000000e+00</td>\n",
       "      <td>3.000000e+00</td>\n",
       "      <td>0.000000</td>\n",
       "      <td>0.000000</td>\n",
       "    </tr>\n",
       "    <tr>\n",
       "      <th>50%</th>\n",
       "      <td>4.000000</td>\n",
       "      <td>1.00000</td>\n",
       "      <td>0.000000</td>\n",
       "      <td>0.000000</td>\n",
       "      <td>4.037390e+05</td>\n",
       "      <td>7.526400e+05</td>\n",
       "      <td>2.012900e+04</td>\n",
       "      <td>9.487700e+04</td>\n",
       "      <td>1.829350e+04</td>\n",
       "      <td>2.888640e+05</td>\n",
       "      <td>0.827132</td>\n",
       "      <td>0.356313</td>\n",
       "      <td>0.000000</td>\n",
       "      <td>0.000000e+00</td>\n",
       "      <td>41.000000</td>\n",
       "      <td>8.188000e+04</td>\n",
       "      <td>2.200000e+01</td>\n",
       "      <td>2.000000e+01</td>\n",
       "      <td>0.000000</td>\n",
       "      <td>1.000000</td>\n",
       "    </tr>\n",
       "    <tr>\n",
       "      <th>75%</th>\n",
       "      <td>17.000000</td>\n",
       "      <td>5.00000</td>\n",
       "      <td>0.000000</td>\n",
       "      <td>1.000000</td>\n",
       "      <td>1.650712e+06</td>\n",
       "      <td>2.699501e+06</td>\n",
       "      <td>1.189535e+05</td>\n",
       "      <td>5.228890e+05</td>\n",
       "      <td>9.053025e+04</td>\n",
       "      <td>1.121663e+06</td>\n",
       "      <td>2.411197</td>\n",
       "      <td>0.624189</td>\n",
       "      <td>0.000000</td>\n",
       "      <td>1.755900e+05</td>\n",
       "      <td>78.000000</td>\n",
       "      <td>1.209938e+05</td>\n",
       "      <td>1.270000e+02</td>\n",
       "      <td>1.120000e+02</td>\n",
       "      <td>3.000000</td>\n",
       "      <td>6.000000</td>\n",
       "    </tr>\n",
       "    <tr>\n",
       "      <th>max</th>\n",
       "      <td>3367.000000</td>\n",
       "      <td>639.00000</td>\n",
       "      <td>102.000000</td>\n",
       "      <td>184.000000</td>\n",
       "      <td>3.848518e+09</td>\n",
       "      <td>1.862187e+09</td>\n",
       "      <td>1.514469e+08</td>\n",
       "      <td>2.618416e+09</td>\n",
       "      <td>1.942439e+08</td>\n",
       "      <td>1.230102e+09</td>\n",
       "      <td>inf</td>\n",
       "      <td>4.591580</td>\n",
       "      <td>6.000000</td>\n",
       "      <td>3.318298e+06</td>\n",
       "      <td>493.000000</td>\n",
       "      <td>3.491500e+06</td>\n",
       "      <td>1.977186e+06</td>\n",
       "      <td>1.271636e+06</td>\n",
       "      <td>160739.000000</td>\n",
       "      <td>664146.000000</td>\n",
       "    </tr>\n",
       "  </tbody>\n",
       "</table>\n",
       "</div>"
      ],
      "text/plain": [
       "             가맹점 수        신규개점         계약종료         계약해지            자산  \\\n",
       "count  4396.000000  4396.00000  4396.000000  4396.000000  3.639000e+03   \n",
       "mean     26.143312     5.42152     0.945860     2.383530  1.366477e+07   \n",
       "std     107.792946    17.49158     4.814727     8.229769  1.287778e+08   \n",
       "min       0.000000     0.00000     0.000000     0.000000 -2.304000e+04   \n",
       "25%       0.000000     0.00000     0.000000     0.000000  9.543900e+04   \n",
       "50%       4.000000     1.00000     0.000000     0.000000  4.037390e+05   \n",
       "75%      17.000000     5.00000     0.000000     1.000000  1.650712e+06   \n",
       "max    3367.000000   639.00000   102.000000   184.000000  3.848518e+09   \n",
       "\n",
       "                매출액          영업이익            자본         당기순이익            부채  \\\n",
       "count  3.832000e+03  3.640000e+03  3.641000e+03  3.640000e+03  3.641000e+03   \n",
       "mean   1.469871e+07  5.152276e+05  6.401410e+06  1.255511e+05  7.279675e+06   \n",
       "std    1.048473e+08  4.941120e+06  7.679216e+07  6.295004e+06  6.063171e+07   \n",
       "min    0.000000e+00 -2.422069e+07 -1.095056e+07 -8.041570e+07 -2.648080e+05   \n",
       "25%    2.033182e+05 -9.289750e+03  1.458000e+03 -6.939500e+03  4.792100e+04   \n",
       "50%    7.526400e+05  2.012900e+04  9.487700e+04  1.829350e+04  2.888640e+05   \n",
       "75%    2.699501e+06  1.189535e+05  5.228890e+05  9.053025e+04  1.121663e+06   \n",
       "max    1.862187e+09  1.514469e+08  2.618416e+09  1.942439e+08  1.230102e+09   \n",
       "\n",
       "              부채비율       자기자본비율        법위반횟수       가맹점 매출액     가맹사업 개월수  \\\n",
       "count  3398.000000  3398.000000  4396.000000  4.396000e+03  4396.000000   \n",
       "mean           inf     0.134656     0.054595  1.184170e+05    59.333258   \n",
       "std            NaN     1.403288     0.265968  2.266198e+05    54.094879   \n",
       "min    -518.009077   -27.924408     0.000000  0.000000e+00     7.000000   \n",
       "25%       0.084735     0.096571     0.000000  0.000000e+00    23.000000   \n",
       "50%       0.827132     0.356313     0.000000  0.000000e+00    41.000000   \n",
       "75%       2.411197     0.624189     0.000000  1.755900e+05    78.000000   \n",
       "max            inf     4.591580     6.000000  3.318298e+06   493.000000   \n",
       "\n",
       "              비용 합계          총언급량            긍정             중립             부정  \n",
       "count  4.396000e+03  4.396000e+03  4.396000e+03    4396.000000    4396.000000  \n",
       "mean   1.026000e+05  4.079389e+03  2.816518e+03     266.736351     996.134213  \n",
       "std    9.631122e+04  5.302626e+04  3.699461e+04    3777.309978   14798.930928  \n",
       "min    0.000000e+00  0.000000e+00  0.000000e+00       0.000000       0.000000  \n",
       "25%    5.700000e+04  4.000000e+00  3.000000e+00       0.000000       0.000000  \n",
       "50%    8.188000e+04  2.200000e+01  2.000000e+01       0.000000       1.000000  \n",
       "75%    1.209938e+05  1.270000e+02  1.120000e+02       3.000000       6.000000  \n",
       "max    3.491500e+06  1.977186e+06  1.271636e+06  160739.000000  664146.000000  "
      ]
     },
     "execution_count": 7,
     "metadata": {},
     "output_type": "execute_result"
    }
   ],
   "source": [
    "df.describe()"
   ]
  },
  {
   "cell_type": "code",
   "execution_count": 8,
   "metadata": {},
   "outputs": [
    {
     "data": {
      "text/plain": [
       "(array([1.397e+03, 2.980e+02, 2.190e+02, ..., 0.000e+00, 0.000e+00,\n",
       "        1.000e+00]),\n",
       " array([0.00000000e+00, 7.66097838e-01, 1.53219568e+00, ...,\n",
       "        3.36546780e+03, 3.36623390e+03, 3.36700000e+03]),\n",
       " <a list of 4395 Patch objects>)"
      ]
     },
     "execution_count": 8,
     "metadata": {},
     "output_type": "execute_result"
    },
    {
     "data": {
      "image/png": "[encoded data removed]",
      "text/plain": [
       "<Figure size 1440x360 with 1 Axes>"
      ]
     },
     "metadata": {},
     "output_type": "display_data"
    }
   ],
   "source": [
    "#0이 많다. 문제점인식.\n",
    "plt.figure(figsize=(20,5))\n",
    "plt.hist(df[\"가맹점 수\"],bins=4395)\n",
    "# plt.ylim(0,200)"
   ]
  },
  {
   "cell_type": "code",
   "execution_count": 9,
   "metadata": {},
   "outputs": [
    {
     "data": {
      "text/plain": [
       "(1590, 22)"
      ]
     },
     "execution_count": 9,
     "metadata": {},
     "output_type": "execute_result"
    }
   ],
   "source": [
    "df = df[df['부채']>0]\n",
    "df = df[df['가맹점 수']>0]\n",
    "df = df[df['가맹점 매출액']>0]\n",
    "df.shape"
   ]
  },
  {
   "cell_type": "code",
   "execution_count": 10,
   "metadata": {},
   "outputs": [
    {
     "data": {
      "text/plain": [
       "(1556, 22)"
      ]
     },
     "execution_count": 10,
     "metadata": {},
     "output_type": "execute_result"
    }
   ],
   "source": [
    "df.drop_duplicates(inplace=True)\n",
    "df.reset_index(inplace=True,drop='index')\n",
    "df.shape"
   ]
  },
  {
   "cell_type": "code",
   "execution_count": 12,
   "metadata": {},
   "outputs": [],
   "source": [
    "df.to_excel(\"./../9 - Data/결측치제외.xlsx\")"
   ]
  }
 ],
 "metadata": {
  "kernelspec": {
   "display_name": "Python 3",
   "language": "python",
   "name": "python3"
  },
  "language_info": {
   "codemirror_mode": {
    "name": "ipython",
    "version": 3
   },
   "file_extension": ".py",
   "mimetype": "text/x-python",
   "name": "python",
   "nbconvert_exporter": "python",
   "pygments_lexer": "ipython3",
   "version": "3.6.5"
  }
 },
 "nbformat": 4,
 "nbformat_minor": 2
}
