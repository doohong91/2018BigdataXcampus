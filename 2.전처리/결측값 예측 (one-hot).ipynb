{
 "cells": [
  {
   "cell_type": "code",
   "execution_count": 2,
   "metadata": {},
   "outputs": [],
   "source": [
    "import pandas as pd\n",
    "import numpy as np\n",
    "import sklearn\n",
    "from sklearn import ensemble\n",
    "from sklearn import multioutput\n",
    "import matplotlib.pyplot as plt\n",
    "%matplotlib inline"
   ]
  },
  {
   "cell_type": "code",
   "execution_count": 27,
   "metadata": {},
   "outputs": [],
   "source": [
    "data = pd.read_excel('./recal2data.xlsx')"
   ]
  },
  {
   "cell_type": "code",
   "execution_count": 28,
   "metadata": {},
   "outputs": [],
   "source": [
    "del data['중분류']"
   ]
  },
  {
   "cell_type": "code",
   "execution_count": 29,
   "metadata": {},
   "outputs": [
    {
     "data": {
      "text/plain": [
       "Index(['브랜드', '상호', '가맹점수', '가맹본부 임직원수', '신규개점', '계약종료', '계약해지', '명의변경',\n",
       "       '가입비(가맹비)', '교육비', '보증금', '기타비용', '인테리어 평당 비용', '인테리어 기준면적',\n",
       "       '인테리어 총 비용', '자산', '매출액', '영업이익', '총자산증가율', '매출액증가율', '영업이익증가율', '자본',\n",
       "       '당기순이익', '영업이익률', '매출액순이익률', '자기자본순이익률', '부채', '부채비율', '자기자본비율',\n",
       "       '법위반횟수', '공정위시정조치', '민사소송', '형의 선고', '가맹점 평균매출액', '가맹사업 개월수', '매출액지수',\n",
       "       '비용 합계', '창업비용 지수', '기타 외국식', '기타 외식', '분식', '서양식', '아이스크림/빙수 ',\n",
       "       '음료 (커피 외)', '일식', '제과제빵', '주점', '중식', '치킨', '커피', '패스트푸드', '피자', '한식'],\n",
       "      dtype='object')"
      ]
     },
     "execution_count": 29,
     "metadata": {},
     "output_type": "execute_result"
    }
   ],
   "source": [
    "data.columns"
   ]
  },
  {
   "cell_type": "code",
   "execution_count": 30,
   "metadata": {},
   "outputs": [],
   "source": [
    "data = data.replace([np.inf, -np.inf], np.nan)"
   ]
  },
  {
   "cell_type": "code",
   "execution_count": 31,
   "metadata": {},
   "outputs": [],
   "source": [
    "data = data.fillna(0)"
   ]
  },
  {
   "cell_type": "code",
   "execution_count": 43,
   "metadata": {},
   "outputs": [
    {
     "data": {
      "text/html": [
       "<div>\n",
       "<style scoped>\n",
       "    .dataframe tbody tr th:only-of-type {\n",
       "        vertical-align: middle;\n",
       "    }\n",
       "\n",
       "    .dataframe tbody tr th {\n",
       "        vertical-align: top;\n",
       "    }\n",
       "\n",
       "    .dataframe thead th {\n",
       "        text-align: right;\n",
       "    }\n",
       "</style>\n",
       "<table border=\"1\" class=\"dataframe\">\n",
       "  <thead>\n",
       "    <tr style=\"text-align: right;\">\n",
       "      <th></th>\n",
       "      <th>브랜드</th>\n",
       "      <th>상호</th>\n",
       "      <th>가맹점수</th>\n",
       "      <th>가맹본부 임직원수</th>\n",
       "      <th>신규개점</th>\n",
       "      <th>계약종료</th>\n",
       "      <th>계약해지</th>\n",
       "      <th>명의변경</th>\n",
       "      <th>가입비(가맹비)</th>\n",
       "      <th>교육비</th>\n",
       "      <th>...</th>\n",
       "      <th>음료 (커피 외)</th>\n",
       "      <th>일식</th>\n",
       "      <th>제과제빵</th>\n",
       "      <th>주점</th>\n",
       "      <th>중식</th>\n",
       "      <th>치킨</th>\n",
       "      <th>커피</th>\n",
       "      <th>패스트푸드</th>\n",
       "      <th>피자</th>\n",
       "      <th>한식</th>\n",
       "    </tr>\n",
       "  </thead>\n",
       "  <tbody>\n",
       "  </tbody>\n",
       "</table>\n",
       "<p>0 rows × 53 columns</p>\n",
       "</div>"
      ],
      "text/plain": [
       "Empty DataFrame\n",
       "Columns: [브랜드, 상호, 가맹점수, 가맹본부 임직원수, 신규개점, 계약종료, 계약해지, 명의변경, 가입비(가맹비), 교육비, 보증금, 기타비용, 인테리어 평당 비용, 인테리어 기준면적, 인테리어 총 비용, 자산, 매출액, 영업이익, 총자산증가율, 매출액증가율, 영업이익증가율, 자본, 당기순이익, 영업이익률, 매출액순이익률, 자기자본순이익률, 부채, 부채비율, 자기자본비율, 법위반횟수, 공정위시정조치, 민사소송, 형의 선고, 가맹점 평균매출액, 가맹사업 개월수, 매출액지수, 비용 합계, 창업비용 지수, 기타 외국식, 기타 외식, 분식, 서양식, 아이스크림/빙수 , 음료 (커피 외), 일식, 제과제빵, 주점, 중식, 치킨, 커피, 패스트푸드, 피자, 한식]\n",
       "Index: []\n",
       "\n",
       "[0 rows x 53 columns]"
      ]
     },
     "execution_count": 43,
     "metadata": {},
     "output_type": "execute_result"
    }
   ],
   "source": [
    "data[np.isnan(data[''])]"
   ]
  },
  {
   "cell_type": "code",
   "execution_count": 44,
   "metadata": {},
   "outputs": [],
   "source": [
    "data2 = data[['가맹점수', '가맹본부 임직원수', '신규개점', '계약종료', '계약해지', '명의변경','가입비(가맹비)', '교육비', '보증금', \n",
    "              '기타비용', '인테리어 평당 비용', '인테리어 기준면적','인테리어 총 비용', '자산', '매출액', '영업이익', '총자산증가율', \n",
    "              '매출액증가율', '영업이익증가율', '자본','당기순이익', '영업이익률', '매출액순이익률', '자기자본순이익률', '부채', \n",
    "              '부채비율', '자기자본비율','법위반횟수', '공정위시정조치', '민사소송', '형의 선고', '가맹점 평균매출액', '가맹사업 개월수', \n",
    "              '매출액지수','비용 합계', '창업비용 지수', '기타 외국식', '기타 외식', '분식', '서양식', '아이스크림/빙수 ','음료 (커피 외)', \n",
    "              '일식', '제과제빵', '주점', '중식', '치킨', '커피', '패스트푸드', '피자', '한식']]"
   ]
  },
  {
   "cell_type": "code",
   "execution_count": 45,
   "metadata": {},
   "outputs": [],
   "source": [
    "test = data2[(data2['가맹사업 개월수'] > 12) & (data2['가맹점 평균매출액'] == 0)]\n",
    "train = data2[(data2['가맹사업 개월수'] < 13) | (data2['가맹점 평균매출액'] != 0)]"
   ]
  },
  {
   "cell_type": "code",
   "execution_count": 1,
   "metadata": {},
   "outputs": [
    {
     "ename": "NameError",
     "evalue": "name 'test' is not defined",
     "output_type": "error",
     "traceback": [
      "\u001b[1;31m---------------------------------------------------------------------------\u001b[0m",
      "\u001b[1;31mNameError\u001b[0m                                 Traceback (most recent call last)",
      "\u001b[1;32m<ipython-input-1-625ce34c722d>\u001b[0m in \u001b[0;36m<module>\u001b[1;34m()\u001b[0m\n\u001b[1;32m----> 1\u001b[1;33m \u001b[0mtest\u001b[0m\u001b[1;33m[\u001b[0m\u001b[1;34m'상호명'\u001b[0m\u001b[1;33m]\u001b[0m\u001b[1;33m\u001b[0m\u001b[0m\n\u001b[0m",
      "\u001b[1;31mNameError\u001b[0m: name 'test' is not defined"
     ]
    }
   ],
   "source": []
  },
  {
   "cell_type": "code",
   "execution_count": 47,
   "metadata": {},
   "outputs": [],
   "source": [
    "train_X = train[['가맹점수', '가맹본부 임직원수', '신규개점', '계약종료', '계약해지', '명의변경','가입비(가맹비)', '교육비', '보증금',\n",
    "                 '기타비용', '인테리어 평당 비용', '인테리어 기준면적','인테리어 총 비용', '자산', '매출액', '영업이익', '자본','당기순이익', \n",
    "                 '부채', '공정위시정조치', '민사소송', '형의 선고', '가맹사업 개월수', '기타 외국식', '기타 외식', '분식','서양식',\n",
    "                 '아이스크림/빙수 ','음료 (커피 외)', '일식', '제과제빵', '주점', '중식', '치킨', '커피', '패스트푸드', '피자', '한식']]\n",
    "train_y = train[['가맹점 평균매출액']]\n",
    "test_X = test[['가맹점수', '가맹본부 임직원수', '신규개점', '계약종료', '계약해지', '명의변경','가입비(가맹비)', '교육비', '보증금', \n",
    "               '기타비용', '인테리어 평당 비용', '인테리어 기준면적','인테리어 총 비용', '자산', '매출액', '영업이익', '자본','당기순이익',\n",
    "               '부채', '공정위시정조치', '민사소송', '형의 선고', '가맹사업 개월수', '기타 외국식', '기타 외식', '분식','서양식',\n",
    "               '아이스크림/빙수 ','음료 (커피 외)', '일식', '제과제빵', '주점', '중식', '치킨', '커피', '패스트푸드', '피자', '한식']]\n",
    "test_y = test[[ '가맹점 평균매출액']]"
   ]
  },
  {
   "cell_type": "code",
   "execution_count": 48,
   "metadata": {},
   "outputs": [
    {
     "data": {
      "text/plain": [
       "2342"
      ]
     },
     "execution_count": 48,
     "metadata": {},
     "output_type": "execute_result"
    }
   ],
   "source": [
    "len(test_X)"
   ]
  },
  {
   "cell_type": "code",
   "execution_count": 49,
   "metadata": {},
   "outputs": [],
   "source": [
    "rfReg  = ensemble.RandomForestRegressor()"
   ]
  },
  {
   "cell_type": "code",
   "execution_count": 50,
   "metadata": {},
   "outputs": [
    {
     "name": "stderr",
     "output_type": "stream",
     "text": [
      "C:\\Users\\ce401Prof\\bigdata\\lib\\site-packages\\ipykernel_launcher.py:1: DataConversionWarning: A column-vector y was passed when a 1d array was expected. Please change the shape of y to (n_samples,), for example using ravel().\n",
      "  \"\"\"Entry point for launching an IPython kernel.\n"
     ]
    },
    {
     "data": {
      "text/plain": [
       "RandomForestRegressor(bootstrap=True, criterion='mse', max_depth=None,\n",
       "           max_features='auto', max_leaf_nodes=None,\n",
       "           min_impurity_decrease=0.0, min_impurity_split=None,\n",
       "           min_samples_leaf=1, min_samples_split=2,\n",
       "           min_weight_fraction_leaf=0.0, n_estimators=10, n_jobs=1,\n",
       "           oob_score=False, random_state=None, verbose=0, warm_start=False)"
      ]
     },
     "execution_count": 50,
     "metadata": {},
     "output_type": "execute_result"
    }
   ],
   "source": [
    "rfReg.fit(train_X,train_y)"
   ]
  },
  {
   "cell_type": "code",
   "execution_count": 51,
   "metadata": {},
   "outputs": [],
   "source": [
    "rfPred = rfReg.predict(test_X)"
   ]
  },
  {
   "cell_type": "code",
   "execution_count": 52,
   "metadata": {
    "scrolled": true
   },
   "outputs": [
    {
     "data": {
      "text/plain": [
       "array([492428.1, 199502.7, 369194.2, ..., 407863. , 357582.3, 451230.4])"
      ]
     },
     "execution_count": 52,
     "metadata": {},
     "output_type": "execute_result"
    }
   ],
   "source": [
    "rfPred"
   ]
  },
  {
   "cell_type": "code",
   "execution_count": 53,
   "metadata": {},
   "outputs": [
    {
     "data": {
      "text/plain": [
       "0.9156782020241268"
      ]
     },
     "execution_count": 53,
     "metadata": {},
     "output_type": "execute_result"
    }
   ],
   "source": [
    "rfReg.score(train_X,train_y)"
   ]
  },
  {
   "cell_type": "code",
   "execution_count": 54,
   "metadata": {},
   "outputs": [],
   "source": [
    "importances = rfReg.feature_importances_\n",
    "std = np.std([rfReg.feature_importances_ for tree in rfReg.estimators_],\n",
    "             axis=0)\n",
    "\n",
    "indices = np.argsort(importances)[::-1]\n",
    "colnames = [train_X.columns[i] for i in np.argsort(importances)[::-1]]"
   ]
  },
  {
   "cell_type": "code",
   "execution_count": 55,
   "metadata": {},
   "outputs": [
    {
     "name": "stdout",
     "output_type": "stream",
     "text": [
      "Feature ranking:\n",
      "11. 인테리어 기준면적 : (0.215996)\n",
      "9. 기타비용 : (0.153796)\n",
      "22. 가맹사업 개월수 : (0.148425)\n",
      "8. 보증금 : (0.071191)\n",
      "6. 가입비(가맹비) : (0.069686)\n",
      "12. 인테리어 총 비용 : (0.056576)\n",
      "16. 자본 : (0.035251)\n",
      "14. 매출액 : (0.029466)\n",
      "1. 가맹본부 임직원수 : (0.026135)\n",
      "2. 신규개점 : (0.024653)\n",
      "0. 가맹점수 : (0.021423)\n",
      "17. 당기순이익 : (0.019811)\n",
      "7. 교육비 : (0.018600)\n",
      "15. 영업이익 : (0.016612)\n",
      "10. 인테리어 평당 비용 : (0.014490)\n",
      "4. 계약해지 : (0.013911)\n",
      "18. 부채 : (0.011418)\n",
      "34. 커피 : (0.009430)\n",
      "13. 자산 : (0.008834)\n",
      "29. 일식 : (0.006430)\n",
      "5. 명의변경 : (0.006280)\n",
      "3. 계약종료 : (0.005953)\n",
      "37. 한식 : (0.005011)\n",
      "24. 기타 외식 : (0.003262)\n",
      "26. 서양식 : (0.002322)\n",
      "19. 공정위시정조치 : (0.001697)\n",
      "31. 주점 : (0.001077)\n",
      "25. 분식 : (0.000759)\n",
      "30. 제과제빵 : (0.000368)\n",
      "33. 치킨 : (0.000319)\n",
      "36. 피자 : (0.000285)\n",
      "23. 기타 외국식 : (0.000162)\n",
      "32. 중식 : (0.000143)\n",
      "28. 음료 (커피 외) : (0.000076)\n",
      "27. 아이스크림/빙수  : (0.000067)\n",
      "20. 민사소송 : (0.000051)\n",
      "35. 패스트푸드 : (0.000033)\n",
      "21. 형의 선고 : (0.000000)\n"
     ]
    }
   ],
   "source": [
    "print(\"Feature ranking:\")\n",
    "\n",
    "for f in range(train_X.shape[1]):\n",
    "    print(\"%d. %s : (%f)\"%(indices[f], colnames[f], importances[indices[f]]))"
   ]
  },
  {
   "cell_type": "code",
   "execution_count": 56,
   "metadata": {},
   "outputs": [
    {
     "data": {
      "image/png": "[encoded data removed]",
      "text/plain": [
       "<Figure size 432x288 with 1 Axes>"
      ]
     },
     "metadata": {},
     "output_type": "display_data"
    }
   ],
   "source": [
    "plt.figure()\n",
    "plt.title(\"Feature importances\")\n",
    "plt.bar(range(train_X.shape[1]), importances[indices],\n",
    "       color=\"r\", yerr=std[indices], align=\"center\")\n",
    "plt.xticks(range(train_X.shape[1]), indices)\n",
    "plt.xlim([-1, train_X.shape[1]])\n",
    "plt.show()"
   ]
  },
  {
   "cell_type": "code",
   "execution_count": 141,
   "metadata": {},
   "outputs": [
    {
     "data": {
      "text/plain": [
       "144"
      ]
     },
     "execution_count": 141,
     "metadata": {},
     "output_type": "execute_result"
    }
   ],
   "source": [
    "len(rfPred[rfPred==0])"
   ]
  },
  {
   "cell_type": "code",
   "execution_count": 57,
   "metadata": {},
   "outputs": [
    {
     "name": "stderr",
     "output_type": "stream",
     "text": [
      "C:\\Users\\ce401Prof\\bigdata\\lib\\site-packages\\sklearn\\utils\\validation.py:578: DataConversionWarning: A column-vector y was passed when a 1d array was expected. Please change the shape of y to (n_samples, ), for example using ravel().\n",
      "  y = column_or_1d(y, warn=True)\n"
     ]
    }
   ],
   "source": [
    "gbReg  = ensemble.GradientBoostingRegressor()\n",
    "gbReg.fit(train_X,train_y)\n",
    "gbPred = gbReg.predict(test_X)"
   ]
  },
  {
   "cell_type": "code",
   "execution_count": 58,
   "metadata": {},
   "outputs": [
    {
     "data": {
      "text/plain": [
       "array([411327.13169487, 224785.74135475, 446724.66028082, ...,\n",
       "       306102.21229619, 306102.21229619, 316914.00455592])"
      ]
     },
     "execution_count": 58,
     "metadata": {},
     "output_type": "execute_result"
    }
   ],
   "source": [
    "gbPred"
   ]
  },
  {
   "cell_type": "code",
   "execution_count": 59,
   "metadata": {},
   "outputs": [
    {
     "data": {
      "text/plain": [
       "0.7941312650749207"
      ]
     },
     "execution_count": 59,
     "metadata": {},
     "output_type": "execute_result"
    }
   ],
   "source": [
    "gbReg.score(train_X,train_y)"
   ]
  },
  {
   "cell_type": "code",
   "execution_count": 60,
   "metadata": {},
   "outputs": [
    {
     "name": "stdout",
     "output_type": "stream",
     "text": [
      "Feature ranking:\n",
      "9. 기타비용 : (0.111754)\n",
      "11. 인테리어 기준면적 : (0.098300)\n",
      "22. 가맹사업 개월수 : (0.085240)\n",
      "6. 가입비(가맹비) : (0.073331)\n",
      "8. 보증금 : (0.065801)\n",
      "12. 인테리어 총 비용 : (0.061281)\n",
      "17. 당기순이익 : (0.052406)\n",
      "16. 자본 : (0.041262)\n",
      "2. 신규개점 : (0.040599)\n",
      "14. 매출액 : (0.038763)\n",
      "0. 가맹점수 : (0.034734)\n",
      "7. 교육비 : (0.033584)\n",
      "1. 가맹본부 임직원수 : (0.032793)\n",
      "10. 인테리어 평당 비용 : (0.032503)\n",
      "34. 커피 : (0.029478)\n",
      "4. 계약해지 : (0.023377)\n",
      "15. 영업이익 : (0.020674)\n",
      "13. 자산 : (0.019186)\n",
      "27. 아이스크림/빙수  : (0.017723)\n",
      "37. 한식 : (0.016155)\n",
      "3. 계약종료 : (0.013543)\n",
      "5. 명의변경 : (0.012503)\n",
      "24. 기타 외식 : (0.011057)\n",
      "28. 음료 (커피 외) : (0.008254)\n",
      "29. 일식 : (0.007973)\n",
      "35. 패스트푸드 : (0.005643)\n",
      "18. 부채 : (0.005489)\n",
      "19. 공정위시정조치 : (0.004053)\n",
      "23. 기타 외국식 : (0.001711)\n",
      "33. 치킨 : (0.000829)\n",
      "26. 서양식 : (0.000000)\n",
      "25. 분식 : (0.000000)\n",
      "30. 제과제빵 : (0.000000)\n",
      "31. 주점 : (0.000000)\n",
      "32. 중식 : (0.000000)\n",
      "21. 형의 선고 : (0.000000)\n",
      "20. 민사소송 : (0.000000)\n",
      "36. 피자 : (0.000000)\n"
     ]
    },
    {
     "data": {
      "image/png": "[encoded data removed]",
      "text/plain": [
       "<Figure size 432x288 with 1 Axes>"
      ]
     },
     "metadata": {},
     "output_type": "display_data"
    }
   ],
   "source": [
    "importances = gbReg.feature_importances_\n",
    "std = np.std([gbReg.feature_importances_ for tree in gbReg.estimators_],\n",
    "             axis=0)\n",
    "\n",
    "indices = np.argsort(importances)[::-1]\n",
    "colnames = [train_X.columns[i] for i in np.argsort(importances)[::-1]]\n",
    "print(\"Feature ranking:\")\n",
    "\n",
    "for f in range(train_X.shape[1]):\n",
    "    print(\"%d. %s : (%f)\"%(indices[f], colnames[f], importances[indices[f]]))\n",
    "\n",
    "plt.figure()\n",
    "plt.title(\"Feature importances\")\n",
    "plt.bar(range(train_X.shape[1]), importances[indices],\n",
    "       color=\"r\", yerr=std[indices], align=\"center\")\n",
    "plt.xticks(range(train_X.shape[1]), indices)\n",
    "plt.xlim([-1, train_X.shape[1]])\n",
    "plt.show()"
   ]
  },
  {
   "cell_type": "code",
   "execution_count": 137,
   "metadata": {},
   "outputs": [
    {
     "data": {
      "text/plain": [
       "53"
      ]
     },
     "execution_count": 137,
     "metadata": {},
     "output_type": "execute_result"
    }
   ],
   "source": [
    "len(gbPred[gbPred<=0])"
   ]
  },
  {
   "cell_type": "code",
   "execution_count": 126,
   "metadata": {},
   "outputs": [],
   "source": [
    "pred = pd.DataFrame(rfPred)"
   ]
  },
  {
   "cell_type": "code",
   "execution_count": 135,
   "metadata": {},
   "outputs": [],
   "source": [
    "pred = pd.DataFrame(gbPred)"
   ]
  },
  {
   "cell_type": "code",
   "execution_count": 127,
   "metadata": {},
   "outputs": [],
   "source": [
    "pred.to_excel('data/rfpred.xlsx')"
   ]
  },
  {
   "cell_type": "code",
   "execution_count": 136,
   "metadata": {},
   "outputs": [],
   "source": [
    "pred.to_excel('gbpred.xlsx')"
   ]
  },
  {
   "cell_type": "code",
   "execution_count": null,
   "metadata": {},
   "outputs": [],
   "source": [
    "checkpointer = ModelCheckpoint(filepath=modelpath, monitor='val_loss', verbose=1, save_best_only=True)"
   ]
  }
 ],
 "metadata": {
  "kernelspec": {
   "display_name": "Python 3",
   "language": "python",
   "name": "python3"
  },
  "language_info": {
   "codemirror_mode": {
    "name": "ipython",
    "version": 3
   },
   "file_extension": ".py",
   "mimetype": "text/x-python",
   "name": "python",
   "nbconvert_exporter": "python",
   "pygments_lexer": "ipython3",
   "version": "3.6.5"
  }
 },
 "nbformat": 4,
 "nbformat_minor": 2
}
