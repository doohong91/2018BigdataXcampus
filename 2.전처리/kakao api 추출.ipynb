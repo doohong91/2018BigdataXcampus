{
 "cells": [
  {
   "cell_type": "code",
   "execution_count": 1,
   "metadata": {},
   "outputs": [],
   "source": [
    "import os\n",
    "import sys\n",
    "import urllib.request\n",
    "import pandas as pd\n",
    "import numpy as np\n",
    "import json\n",
    "from tqdm import tqdm_notebook"
   ]
  },
  {
   "cell_type": "code",
   "execution_count": 3,
   "metadata": {
    "scrolled": true
   },
   "outputs": [
    {
     "name": "stdout",
     "output_type": "stream",
     "text": [
      "<class 'pandas.core.frame.DataFrame'>\n",
      "Int64Index: 28754 entries, 0 to 38947\n",
      "Data columns (total 11 columns):\n",
      "address         28754 non-null object\n",
      "road_address    28754 non-null object\n",
      "mapx            28754 non-null int64\n",
      "mapy            28754 non-null int64\n",
      "type            28754 non-null object\n",
      "item            28729 non-null object\n",
      "name            28754 non-null object\n",
      "place           22590 non-null object\n",
      "gu              28754 non-null object\n",
      "dong            28754 non-null object\n",
      "road            28754 non-null object\n",
      "dtypes: int64(2), object(9)\n",
      "memory usage: 2.6+ MB\n"
     ]
    }
   ],
   "source": [
    "df = pd.read_excel('./data/dataplc.xlsx',index_col=0)\n",
    "df.info()"
   ]
  },
  {
   "cell_type": "code",
   "execution_count": 4,
   "metadata": {},
   "outputs": [],
   "source": [
    "# del df['상권업종대분류코드']\n",
    "# del df['상권업종중분류코드']\n",
    "# del df['상권업종소분류코드']\n",
    "# del df['표준산업분류코드']\n",
    "# del df['시도코드']\n",
    "# del df['시군구코드']\n",
    "# del df['행정동코드']\n",
    "# del df['법정동코드']\n",
    "# del df['지번코드']\n",
    "# del df['대지구분코드']\n",
    "# del df['대지구분명']\n",
    "# del df['도로명코드']\n",
    "# del df['건물관리번호']\n",
    "# del df['mapx']\n",
    "# del df['mapy']"
   ]
  },
  {
   "cell_type": "code",
   "execution_count": 14,
   "metadata": {},
   "outputs": [],
   "source": [
    "df.reset_index(inplace=True)\n",
    "del df['index']"
   ]
  },
  {
   "cell_type": "code",
   "execution_count": 7,
   "metadata": {},
   "outputs": [],
   "source": []
  },
  {
   "cell_type": "code",
   "execution_count": 15,
   "metadata": {},
   "outputs": [],
   "source": [
    "def trans_adds(x,y):\n",
    "    client_id = \"GchMYrs8q79adXEdENbw\"\n",
    "    client_secret = \"aspsAFfrKJ\"\n",
    "    url_base = \"https://openapi.naver.com/v1/map/reversegeocode?encoding=utf-8&coordType=tm128&query=\"\n",
    "    url_xy = str(x) + ',' + str(y)\n",
    "    url = url_base + url_xy\n",
    "    request = urllib.request.Request(url)\n",
    "    request.add_header(\"X-Naver-Client-Id\",client_id)\n",
    "    request.add_header(\"X-Naver-Client-Secret\",client_secret)\n",
    "    response = urllib.request.urlopen(request)\n",
    "    response_body = response.read()\n",
    "    list = json.loads(response_body)\n",
    "    return list['result']['items'][0]['address']"
   ]
  },
  {
   "cell_type": "code",
   "execution_count": 16,
   "metadata": {},
   "outputs": [
    {
     "data": {
      "text/plain": [
       "'서울특별시 중구 명동2가 81-1'"
      ]
     },
     "execution_count": 16,
     "metadata": {},
     "output_type": "execute_result"
    }
   ],
   "source": [
    "trans_adds(df['mapx'][69],df['mapy'][69])"
   ]
  },
  {
   "cell_type": "code",
   "execution_count": 17,
   "metadata": {},
   "outputs": [],
   "source": [
    "def trans_coords(add):\n",
    "    client_id = \"GchMYrs8q79adXEdENbw\"\n",
    "    client_secret = \"aspsAFfrKJ\"\n",
    "    encText = urllib.parse.quote(add)\n",
    "    url = \"https://openapi.naver.com/v1/map/geocode?encoding=utf-8&coordType=latlng&query=\" + encText\n",
    "    request = urllib.request.Request(url)\n",
    "    request.add_header(\"X-Naver-Client-Id\",client_id)\n",
    "    request.add_header(\"X-Naver-Client-Secret\",client_secret)\n",
    "    response = urllib.request.urlopen(request)\n",
    "    response_body = response.read()\n",
    "    list = json.loads(response_body)\n",
    "    return list['result']['items'][0]['point']"
   ]
  },
  {
   "cell_type": "code",
   "execution_count": 18,
   "metadata": {},
   "outputs": [
    {
     "data": {
      "text/plain": [
       "{'x': 126.9846894, 'y': 37.5620062}"
      ]
     },
     "execution_count": 18,
     "metadata": {},
     "output_type": "execute_result"
    }
   ],
   "source": [
    "trans_coords(trans_adds(df['mapx'][69],df['mapy'][69]))"
   ]
  },
  {
   "cell_type": "code",
   "execution_count": 19,
   "metadata": {},
   "outputs": [],
   "source": [
    "KakaoAK = [\"KakaoAK 5195aa628fe0a657648118172db5a611\",\"KakaoAK 0b57d37a61f9b28a8b30819c7071d1ce\",\"KakaoAK 2912bb5a8577c30a55c3fd67c64a9975\",\n",
    "          \"KakaoAK 62db5476f97ff8c2e62f85355d0fb617\",\"KakaoAK c91c5684a0fe4d3c22af518a226f44a1\"]\n",
    "def around_place(x,y,category,i=0):\n",
    "    url_base = \"https://dapi.kakao.com/v2/local/search/category.json?radius=500\"\n",
    "    url_x = \"&x=\" + str(x)\n",
    "    url_y = \"&y=\" + str(y)\n",
    "    url_category = \"&category_group_code=\" + category\n",
    "    url = url_base + url_x + url_y + url_category\n",
    "    \n",
    "    request = urllib.request.Request(url)\n",
    "\n",
    "    request.add_header(\"Authorization\",KakaoAK[i])\n",
    "    response = urllib.request.urlopen(request)\n",
    "    resbody = response.read()\n",
    "    list = json.loads(resbody)\n",
    "    return list['meta']['total_count']"
   ]
  },
  {
   "cell_type": "code",
   "execution_count": 20,
   "metadata": {},
   "outputs": [],
   "source": [
    "categories = {'대형마트':'MT1','편의점':'CS2','어린이집,유치원':'PS3','학교':'SC4','학원':'AC5','주차장':'PK6','주유소':'OL7',\n",
    "            '지하철역':'SW8','은행':'BK9','문화시설':'CT1','중개업소':'AG2','공공기관':'PO3','관광명소':'AT4','숙박':'AD5',\n",
    "              '음식점':'FD6','카페':'CE7','병원':'HP8','약국':'PM9'}"
   ]
  },
  {
   "cell_type": "code",
   "execution_count": 21,
   "metadata": {},
   "outputs": [],
   "source": [
    "for name, code in categories.items():\n",
    "    df[name]=''"
   ]
  },
  {
   "cell_type": "code",
   "execution_count": 22,
   "metadata": {},
   "outputs": [
    {
     "data": {
      "text/plain": [
       "'BK9'"
      ]
     },
     "execution_count": 22,
     "metadata": {},
     "output_type": "execute_result"
    }
   ],
   "source": [
    "categories['은행']"
   ]
  },
  {
   "cell_type": "code",
   "execution_count": 25,
   "metadata": {},
   "outputs": [
    {
     "data": {
      "application/vnd.jupyter.widget-view+json": {
       "model_id": "2c3aae74d1a2406394c4f18027e92168",
       "version_major": 2,
       "version_minor": 0
      },
      "text/plain": [
       "HBox(children=(IntProgress(value=0, max=19034), HTML(value='')))"
      ]
     },
     "metadata": {},
     "output_type": "display_data"
    },
    {
     "name": "stderr",
     "output_type": "stream",
     "text": [
      "C:\\Users\\ce401Prof\\bigdata\\lib\\site-packages\\ipykernel_launcher.py:6: SettingWithCopyWarning: \n",
      "A value is trying to be set on a copy of a slice from a DataFrame\n",
      "\n",
      "See the caveats in the documentation: http://pandas.pydata.org/pandas-docs/stable/indexing.html#indexing-view-versus-copy\n",
      "  \n",
      "C:\\Users\\ce401Prof\\bigdata\\lib\\site-packages\\ipykernel_launcher.py:7: SettingWithCopyWarning: \n",
      "A value is trying to be set on a copy of a slice from a DataFrame\n",
      "\n",
      "See the caveats in the documentation: http://pandas.pydata.org/pandas-docs/stable/indexing.html#indexing-view-versus-copy\n",
      "  import sys\n",
      "C:\\Users\\ce401Prof\\bigdata\\lib\\site-packages\\ipykernel_launcher.py:10: SettingWithCopyWarning: \n",
      "A value is trying to be set on a copy of a slice from a DataFrame\n",
      "\n",
      "See the caveats in the documentation: http://pandas.pydata.org/pandas-docs/stable/indexing.html#indexing-view-versus-copy\n",
      "  # Remove the CWD from sys.path while we load stuff.\n"
     ]
    },
    {
     "name": "stdout",
     "output_type": "stream",
     "text": [
      "1188\n",
      "2134\n",
      "13420\n",
      "14179\n"
     ]
    }
   ],
   "source": [
    "df['x'] = ''\n",
    "df['y'] = ''\n",
    "j = 0\n",
    "for i in tqdm_notebook(range(len(df[9720:]))):\n",
    "    try:\n",
    "        df['x'][i+9720] = trans_coords(trans_adds(df['mapx'][i+9720],df['mapy'][i+9720]))['x']\n",
    "        df['y'][i+9720] = trans_coords(trans_adds(df['mapx'][i+9720],df['mapy'][i+9720]))['y']\n",
    "#         try:\n",
    "#             for name, code in categories.items():\n",
    "#                 df[name][i+9720] = around_place(df['x'][i+9720],df['y'][i+9720],code,j)\n",
    "#                 j += 1\n",
    "#                 if j == 5:\n",
    "#                     j = 0\n",
    "#         except :\n",
    "#             print(i+9720)\n",
    "#             pass\n",
    "\n",
    "    except :\n",
    "        print(i)\n",
    "        pass\n",
    "#     5882\n",
    "#     6212"
   ]
  },
  {
   "cell_type": "code",
   "execution_count": 27,
   "metadata": {},
   "outputs": [],
   "source": [
    "df.to_excel('./data/dataplc.xlsx')"
   ]
  },
  {
   "cell_type": "code",
   "execution_count": null,
   "metadata": {},
   "outputs": [],
   "source": []
  },
  {
   "cell_type": "code",
   "execution_count": null,
   "metadata": {},
   "outputs": [],
   "source": []
  },
  {
   "cell_type": "code",
   "execution_count": null,
   "metadata": {},
   "outputs": [],
   "source": []
  }
 ],
 "metadata": {
  "kernelspec": {
   "display_name": "Python 3",
   "language": "python",
   "name": "python3"
  },
  "language_info": {
   "codemirror_mode": {
    "name": "ipython",
    "version": 3
   },
   "file_extension": ".py",
   "mimetype": "text/x-python",
   "name": "python",
   "nbconvert_exporter": "python",
   "pygments_lexer": "ipython3",
   "version": "3.6.5"
  }
 },
 "nbformat": 4,
 "nbformat_minor": 2
}
